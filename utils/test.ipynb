{
 "cells": [
  {
   "cell_type": "code",
   "execution_count": 2,
   "metadata": {},
   "outputs": [],
   "source": [
    "import pandas as pd\n",
    "import os\n",
    "from datetime import datetime\n",
    "from state import STATE_CLASS\n",
    "\n"
   ]
  },
  {
   "cell_type": "code",
   "execution_count": 3,
   "metadata": {},
   "outputs": [],
   "source": [
    "def calculate_age(birth_year_str, reference_date_str):\n",
    "    \"\"\"Calculate age based on birth year and reference date in the format DD/MM/YY.\"\"\"\n",
    "    # Convert birth year to integer\n",
    "    birth_year = int(birth_year_str)\n",
    "    # Parse the reference date from the format 'DD/MM/YY'\n",
    "    try:\n",
    "        reference_date = datetime.strptime(reference_date_str, \"%d-%b-%y\")\n",
    "    except:\n",
    "        reference_date = datetime.strptime(reference_date_str, \"%d/%m/%y\")\n",
    "    # Calculate age using the year difference\n",
    "    age = reference_date.year - birth_year\n",
    "    dt_nascimento = reference_date.strftime(\"%Y-%m-%d\")\n",
    "    return age, dt_nascimento\n",
    "\n",
    "\n",
    "# Função para checar a carência do paciente\n",
    "def check_carencia(carencia):\n",
    "    \"\"\"Versão que verifica a coluna carencia\"\"\"\n",
    "    if pd.isna(carencia) or carencia in ['nan', 'NaT']:\n",
    "        return \"Não\"\n",
    "    else:\n",
    "        return f\"Sim (Termina na data {carencia} para o(s) procedimento(s) solicitado(s))\"\n",
    "    \n",
    "def carencia_for_model(carencia):\n",
    "    \"\"\"Versão que verifica a coluna carencia\"\"\"\n",
    "    if pd.isna(carencia) or carencia in ['nan', 'NaT']:\n",
    "        return \"NULL\"\n",
    "    else:\n",
    "        return carencia\n",
    "\n",
    "\n",
    "# Função para determinar a situação contratual do paciente\n",
    "def determine_contrato(data_cancelamento):\n",
    "    if pd.isna(data_cancelamento) or data_cancelamento in ['nan', 'NaT']:\n",
    "        return \"Contrato ativo\"\n",
    "    else:\n",
    "        return f\"Contrato cancelado no dia {data_cancelamento}\""
   ]
  },
  {
   "cell_type": "code",
   "execution_count": 4,
   "metadata": {},
   "outputs": [],
   "source": [
    "def get_data_by_adress(requisicao_id:int)->dict:\n",
    "    adress = os.environ.get(\"REQUISICOES_ADRESS_OR_PATH\", None)\n",
    "    port = os.environ.get(\"REQUISICOES_PORT\", None)    \n",
    "    \n",
    "    # transform em dataframe\n",
    "    \n",
    "    \n",
    "     \n",
    "    #OMNI_DADOS_REQUISICAO.DT_REQUISICAO,\n",
    "    #OMNI_DADOS_REQUISICAO.DS_TIPO_GUIA,\n",
    "    #OMNI_DADOS_REQUISICAO.DS_CARATER_ATENDIMENTO,\n",
    "    #\n",
    "    #OMNI_DADOS_BENEFICIARIO.NM_BENEFICIARIO,\n",
    "    #OMNI_DADOS_BENEFICIARIO.DATA_NASCIMENTO,\n",
    "    #OMNI_DADOS_BENEFICIARIO.DATA_CANCELAMENTO,\n",
    "    #OMNI_DADOS_BENEFICIARIO.DATA_INICIO_VIGENCIA,\n",
    "    #OMNI_DADOS_BENEFICIARIO.DATA_FIM_CARENCIA,\n",
    "    #\n",
    "    #OMNI_DADOS_PRESTADOR.NM_PRESTADOR\n",
    "    \n",
    "    raise NotImplementedError(\"Ainda não implementado\")"
   ]
  },
  {
   "cell_type": "code",
   "execution_count": 5,
   "metadata": {},
   "outputs": [],
   "source": [
    "def get_requisition_details(requisicao_id:int, state : STATE_CLASS)->dict:\n",
    "    \n",
    "    placeholder = \"Nan\"\n",
    "    print(os.environ.get(\"REQUISICOES_ADRESS_OR_PATH\",None))\n",
    "    if os.path.exists(os.environ.get(\"REQUISICOES_ADRESS_OR_PATH\",None)):\n",
    "        # carregar os dados a partir do arquivo csv\n",
    "        #if len(state.DADOS_CSV_LIST) == 0:\n",
    "        #    state.load_offline_data()\n",
    "            \n",
    "        dados_requisicao, dados_item, dados_prestador, dados_beneficiario, dados_requisicao_item = state.DADOS_CSV_LIST\n",
    "\n",
    "    else:\n",
    "        # carregar os dados a partir do banco de dados\n",
    "        dados_requisicao, dados_item, dados_prestador, dados_beneficiario, dados_requisicao_item = get_data_by_adress(requisicao_id)\n",
    "    \n",
    "    \n",
    "    # Pegando o ID da requisição\n",
    "    requisicao = dados_requisicao[dados_requisicao['ID_REQUISICAO'] == requisicao_id]\n",
    "    if requisicao.empty:\n",
    "        return {\"Error\": \"REQUISICAO_ID not found\"}\n",
    "\n",
    "    # Extraindo informações da requisição\n",
    "    id_beneficiario = requisicao['ID_BENEFICIARIO'].iloc[0]\n",
    "    print('ID Beneficiario:', id_beneficiario)\n",
    "    id_prestador = requisicao['ID_PRESTADOR'].iloc[0]\n",
    "    dt_requisicao = requisicao['DT_REQUISICAO'].iloc[0]\n",
    "    ds_tipo_guia = requisicao['DS_TIPO_GUIA'].iloc[0]\n",
    "    ds_carater_atendimento = requisicao['DS_CARATER_ATENDIMENTO'].iloc[0]\n",
    "    ds_cbo_profissional = requisicao['DS_CBO_PROFISSIONAL'].iloc[0]\n",
    "    ds_tipo_internacao = requisicao['DS_TIPO_INTERNACAO'].iloc[0]\n",
    "    ds_regime_internacao = requisicao['DS_REGIME_INTERNACAO'].iloc[0]\n",
    "    ds_tipo_sadt = requisicao['DS_TIPO_SADT'].iloc[0]\n",
    "    ds_tipo_consulta = requisicao['DS_TIPO_CONSULTA'].iloc[0]\n",
    "\n",
    "    # Pega o beneficiário no df de beneficiarios\n",
    "    beneficiario = dados_beneficiario[dados_beneficiario['ID_BENEFICIARIO'] == id_beneficiario]\n",
    "    \n",
    "    if beneficiario.empty:\n",
    "        return {\"Erro\": \"Beneficiario não encontrado\"}\n",
    "\n",
    "    # Extraindo informações do beneficiarios\n",
    "    nome_beneficiario = beneficiario['NM_BENEFICIARIO'].iloc[0]\n",
    "    data_nascimento = str(beneficiario['DATA_NASCIMENTO'].iloc[0])\n",
    "    data_cancelamento = beneficiario['DATA_CANCELAMENTO'].iloc[0]\n",
    "    data_inicio_vigencia = beneficiario['DATA_INICIO_VIGENCIA'].iloc[0]\n",
    "    carencia = beneficiario['DATA_FIM_CARENCIA'].iloc[0]\n",
    "    titularidade = beneficiario['TITULARIDADE'].iloc[0]\n",
    "\n",
    "    # Calculando a idade, verificando a carência e a situação contratual\n",
    "    idade, data_nascimento_modelo = calculate_age(data_nascimento, dt_requisicao)\n",
    "    carencia = check_carencia(carencia)\n",
    "    carencia_modelo = carencia_for_model(carencia)\n",
    "    situacao_contratual = determine_contrato(data_cancelamento)\n",
    "\n",
    "    # Pegando o prestador atribuido a requisição\n",
    "    prestador = dados_prestador[dados_prestador['ID_PRESTADOR'] == id_prestador]\n",
    "\n",
    "    if prestador.empty:\n",
    "        return {\"Erro\": \"Prestador não encontrado\"}\n",
    "    \n",
    "    # Extraindo informações do beneficiarios\n",
    "    nome_prestador = prestador['NM_PRESTADOR'].iloc[0]\n",
    "\n",
    "    # Pegando os itens atribuidos a requisição\n",
    "    requisicao_items = dados_requisicao_item[dados_requisicao_item['ID_REQUISICAO'] == requisicao_id].copy()\n",
    "\n",
    "    if requisicao_items.empty:\n",
    "        return {\"Erro\": \"Items não foram encontrado para essa REQUISICAO_ID\"}\n",
    "\n",
    "    try:\n",
    "        requisicao_items.loc[:, 'DT_ATUALIZACAO'] = pd.to_datetime(requisicao_items['DT_ATUALIZACAO'], format='%d-%b-%y')\n",
    "    except:\n",
    "        requisicao_items.loc[:, 'DT_ATUALIZACAO'] = pd.to_datetime(requisicao_items['DT_ATUALIZACAO'], format='%d/%m/%y')\n",
    "\n",
    "    requisicao_items = requisicao_items.sort_values(by='DT_ATUALIZACAO')\n",
    "\n",
    "    # Extraindo informações dos itens \n",
    "    descriptions_dict = {}\n",
    "    for idx, item in requisicao_items.iterrows():\n",
    "        id_item = item['ID_ITEM']\n",
    "\n",
    "        item_info = dados_item[dados_item['ID_ITEM'] == id_item]\n",
    "        id_item_display = item_info['CD_ITEM'].iloc[0]\n",
    "        id_item_display = int(id_item_display)\n",
    "        \n",
    "        item_description = dados_item[dados_item['ID_ITEM'] == id_item]['DS_ITEM'].iloc[0]\n",
    "        if not pd.isna(item_description):\n",
    "            descriptions_dict[id_item_display] = item_description\n",
    "        else:\n",
    "            raise ValueError(\"Critical Error: No item description found, please check the data\")\n",
    "\n",
    "    item_type_dict = {}\n",
    "    for idx, item in requisicao_items.iterrows():\n",
    "        id_item = item['ID_ITEM']\n",
    "\n",
    "        item_info = dados_item[dados_item['ID_ITEM'] == id_item]\n",
    "        id_item_display = item_info['CD_ITEM'].iloc[0]\n",
    "        id_item_display = int(id_item_display)\n",
    "        \n",
    "        item_type = dados_item[dados_item['ID_ITEM'] == id_item]['DS_TIPO_ITEM'].iloc[0]\n",
    "        if not pd.isna(item_type):\n",
    "            item_type_dict[id_item_display] = item_type\n",
    "        else:\n",
    "            raise ValueError(\"Critical Error: No item type found, please check the data\")\n",
    "\n",
    "    specific_item_type_dict = {}\n",
    "    for idx, item in requisicao_items.iterrows():\n",
    "        id_item = item['ID_ITEM']\n",
    "\n",
    "        item_info = dados_item[dados_item['ID_ITEM'] == id_item]\n",
    "        id_item_display = item_info['CD_ITEM'].iloc[0]\n",
    "        id_item_display = int(id_item_display)\n",
    "        \n",
    "        item_type = dados_item[dados_item['ID_ITEM'] == id_item]['DS_CLASSIFICACAO_1'].iloc[0]\n",
    "        if not pd.isna(item_type):\n",
    "            specific_item_type_dict[id_item_display] = item_type\n",
    "        else:\n",
    "            raise ValueError(\"Critical Error: No item type found, please check the data\")\n",
    "\n",
    "    # Creating id_requisicao_item_dict from dados_requisicao_item\n",
    "    id_requisicao_item_dict = {}\n",
    "    for idx, item in requisicao_items.iterrows():\n",
    "        id_item = item['ID_ITEM']\n",
    "    \n",
    "        item_info = dados_item[dados_item['ID_ITEM'] == id_item]\n",
    "        id_item_display = item_info['CD_ITEM'].iloc[0]\n",
    "        id_item_display = int(id_item_display)\n",
    "        \n",
    "        id_requisicao_item = item['ID_REQUISICAO_ITEM']\n",
    "        if not pd.isna(id_requisicao_item):\n",
    "            id_requisicao_item_dict[id_item_display] = id_requisicao_item\n",
    "        else:\n",
    "            raise ValueError(f\"Critical Error: No requisition item ID found for item ID {id_item_display}, please check the data\")\n",
    "    \n",
    "    # Creating data_atualizacao_reqitem_dict from dados_requisicao_item\n",
    "    data_atualizacao_reqitem_dict = {}\n",
    "    for idx, item in requisicao_items.iterrows():\n",
    "        id_item = item['ID_ITEM']\n",
    "    \n",
    "        item_info = dados_item[dados_item['ID_ITEM'] == id_item]\n",
    "        id_item_display = item_info['CD_ITEM'].iloc[0]\n",
    "        id_item_display = int(id_item_display)\n",
    "    \n",
    "        data_atualizacao_reqitem = item['DT_ATUALIZACAO']\n",
    "        if not pd.isna(data_atualizacao_reqitem):\n",
    "            data_atualizacao_reqitem_dict[id_item_display] = pd.to_datetime(data_atualizacao_reqitem)\n",
    "        else:\n",
    "            raise ValueError(f\"Critical Error: No update date found in requisicao_items for item ID {id_item_display}, please check the data\")\n",
    "    \n",
    "    # Creating data_atualizacao_item_dict from dados_item\n",
    "    data_atualizacao_item_dict = {}\n",
    "    for idx, item in requisicao_items.iterrows():\n",
    "        id_item = item['ID_ITEM']\n",
    "    \n",
    "        item_info = dados_item[dados_item['ID_ITEM'] == id_item]\n",
    "        if not item_info.empty:\n",
    "            id_item_display = item_info['CD_ITEM'].iloc[0]\n",
    "            id_item_display = int(id_item_display)\n",
    "    \n",
    "            data_atualizacao_item = item_info['DT_ATUALIZACAO'].iloc[0]\n",
    "            if not pd.isna(data_atualizacao_item):\n",
    "                data_atualizacao_item_dict[id_item_display] = pd.to_datetime(data_atualizacao_item)\n",
    "            else:\n",
    "                raise ValueError(f\"Critical Error: No update date found in dados_item for item ID {id_item_display}, please check the data\")\n",
    "        else:\n",
    "            raise ValueError(f\"Critical Error: Item ID {id_item} not found in dados_item, please check the data\")\n",
    "\n",
    "    # Dict final (Primeiro bloco para auditores, segundo é pro resto)\n",
    "    result = {\n",
    "        \"Número da requisição\": requisicao_id, # ID_REQUISICAO\n",
    "        \"Nome do beneficiário\": nome_beneficiario, # NM_BENEFICIARIO\n",
    "        \"Médico solicitante\": nome_prestador, # NM_PRESTADOR\n",
    "        \"Data da abertura da requisição\": dt_requisicao, # DT_REQUISICAO\n",
    "        \"Tipo Guia\": ds_tipo_guia, # DS_TIPO_GUIA\n",
    "        \"Caráter de atendimento (Urgência ou eletiva)\": ds_carater_atendimento, # DS_CARATER_ATENDIMENTO\n",
    "        \"Idade do beneficiário\": idade, # DATA_NASCIMENTO, DT_REQUISICAO\n",
    "        \"Situação contratual\": situacao_contratual, # DATA_CANCELAMENTO\n",
    "        \"Período de carência?\": carencia, # DATA_FIM_CARENCIA\n",
    "        \"Descrição dos procedimentos\": descriptions_dict, # DS_ITEM\n",
    "        \"Tipo dos itens (nivel 1)\": item_type_dict, # DS_TIPO_ITEM\n",
    "        \"Tipo dos itens (nivel 2)\": specific_item_type_dict, # DS_CLASSIFICACAO_1\n",
    "\n",
    "        \"ID_REQUISICAO_ITEM\": id_requisicao_item_dict,\n",
    "        \"DT_ATUALIZACAO\": data_atualizacao_item_dict, # Versão da tabela OMNI_DADOS_ITEM\n",
    "        \"DT_ATUALIZACAO_REQ\": data_atualizacao_reqitem_dict, # Versão da tabela OMNI_DADOS_REQUISICAO_ITEM\n",
    "        \"DS_CBO_PROFISSIONAL\": ds_cbo_profissional,\n",
    "        \"DS_TIPO_INTERNACAO\": ds_tipo_internacao,\n",
    "        \"DS_REGIME_INTERNACAO\": ds_regime_internacao,\n",
    "        \"DS_TIPO_SADT\": ds_tipo_sadt,\n",
    "        \"DS_TIPO_CONSULTA\": ds_tipo_consulta,\n",
    "        \"TITULARIDADE\": titularidade,\n",
    "        \"DATA_CANCELAMENTO\": data_cancelamento,\n",
    "        \"DATA_FIM_CARENCIA\": carencia_modelo,\n",
    "        \"DATA_NASCIMENTO\": data_nascimento_modelo\n",
    "    }\n",
    "    \n",
    "    return result"
   ]
  },
  {
   "cell_type": "code",
   "execution_count": 6,
   "metadata": {},
   "outputs": [
    {
     "name": "stdout",
     "output_type": "stream",
     "text": [
      "carregando dados de  D:\\CEIA\\agente-jair-autorizacao\\data\\Dados_Austa_07_2023_ate_10_2024\n",
      "D:\\CEIA\\agente-jair-autorizacao\\data\\Dados_Austa_07_2023_ate_10_2024\\OMNI_DADOS_REQUISICAO.csv\n"
     ]
    },
    {
     "name": "stderr",
     "output_type": "stream",
     "text": [
      "d:\\CEIA\\agente-jair-autorizacao\\utils\\state.py:68: DtypeWarning: Columns (17) have mixed types. Specify dtype option on import or set low_memory=False.\n",
      "  self.DADOS_CSV_LIST.append(pd.read_csv(path_csv, encoding='latin1'))\n"
     ]
    },
    {
     "name": "stdout",
     "output_type": "stream",
     "text": [
      "D:\\CEIA\\agente-jair-autorizacao\\data\\Dados_Austa_07_2023_ate_10_2024\\OMNI_DADOS_ITEM.csv\n"
     ]
    },
    {
     "name": "stderr",
     "output_type": "stream",
     "text": [
      "d:\\CEIA\\agente-jair-autorizacao\\utils\\state.py:68: DtypeWarning: Columns (9) have mixed types. Specify dtype option on import or set low_memory=False.\n",
      "  self.DADOS_CSV_LIST.append(pd.read_csv(path_csv, encoding='latin1'))\n"
     ]
    },
    {
     "name": "stdout",
     "output_type": "stream",
     "text": [
      "D:\\CEIA\\agente-jair-autorizacao\\data\\Dados_Austa_07_2023_ate_10_2024\\OMNI_DADOS_PRESTADOR.csv\n",
      "D:\\CEIA\\agente-jair-autorizacao\\data\\Dados_Austa_07_2023_ate_10_2024\\OMNI_DADOS_BENEFICIARIO.csv\n"
     ]
    },
    {
     "name": "stderr",
     "output_type": "stream",
     "text": [
      "d:\\CEIA\\agente-jair-autorizacao\\utils\\state.py:68: DtypeWarning: Columns (18) have mixed types. Specify dtype option on import or set low_memory=False.\n",
      "  self.DADOS_CSV_LIST.append(pd.read_csv(path_csv, encoding='latin1'))\n"
     ]
    },
    {
     "name": "stdout",
     "output_type": "stream",
     "text": [
      "D:\\CEIA\\agente-jair-autorizacao\\data\\Dados_Austa_07_2023_ate_10_2024\\OMNI_DADOS_REQUISICAO_ITEM.csv\n"
     ]
    }
   ],
   "source": [
    "def get_state():\n",
    "    return STATE_CLASS()\n",
    "\n",
    "state = get_state()"
   ]
  },
  {
   "cell_type": "code",
   "execution_count": 7,
   "metadata": {},
   "outputs": [
    {
     "name": "stdout",
     "output_type": "stream",
     "text": [
      "D:\\CEIA\\agente-jair-autorizacao\\data\\Dados_Austa_07_2023_ate_10_2024\n",
      "ID Beneficiario: 50958\n"
     ]
    },
    {
     "data": {
      "text/plain": [
       "{'Número da requisição': 41002890,\n",
       " 'Nome do beneficiário': 'Claudio Antonio da Cruz Junior',\n",
       " 'Médico solicitante': 'HOSPITAL SAO JORGE LTDA',\n",
       " 'Data da abertura da requisição': '04/07/23',\n",
       " 'Tipo Guia': 'Guia de solicitação SP/SADT',\n",
       " 'Caráter de atendimento (Urgência ou eletiva)': 'Urgência/Emergência',\n",
       " 'Idade do beneficiário': 36,\n",
       " 'Situação contratual': 'Contrato ativo',\n",
       " 'Período de carência?': 'Não',\n",
       " 'Descrição dos procedimentos': {10101039: 'Consulta em pronto socorro'},\n",
       " 'Tipo dos itens (nivel 1)': {10101039: 'PROCEDIMENTOS'},\n",
       " 'Tipo dos itens (nivel 2)': {10101039: 'PROCEDIMENTOS GERAIS'},\n",
       " 'ID_REQUISICAO_ITEM': {10101039: 12114456},\n",
       " 'DT_ATUALIZACAO': {10101039: Timestamp('2021-09-23 00:00:00')},\n",
       " 'DT_ATUALIZACAO_REQ': {10101039: Timestamp('2023-07-13 00:00:00')},\n",
       " 'DS_CBO_PROFISSIONAL': 'Médico clínico',\n",
       " 'DS_TIPO_INTERNACAO': nan,\n",
       " 'DS_REGIME_INTERNACAO': nan,\n",
       " 'DS_TIPO_SADT': 'Consulta',\n",
       " 'DS_TIPO_CONSULTA': 'Primeira consulta',\n",
       " 'TITULARIDADE': 'N',\n",
       " 'DATA_CANCELAMENTO': nan,\n",
       " 'DATA_FIM_CARENCIA': 'Não',\n",
       " 'DATA_NASCIMENTO': '2023-07-04'}"
      ]
     },
     "execution_count": 7,
     "metadata": {},
     "output_type": "execute_result"
    }
   ],
   "source": [
    "resumo = get_requisition_details(41002890, state)\n",
    "resumo"
   ]
  },
  {
   "cell_type": "code",
   "execution_count": 9,
   "metadata": {},
   "outputs": [
    {
     "name": "stdout",
     "output_type": "stream",
     "text": [
      "carregando dados de  D:\\CEIA\\agente-jair-autorizacao\\data\\Dados_Austa_07_2023_ate_10_2024\n",
      "D:\\CEIA\\agente-jair-autorizacao\\data\\Dados_Austa_07_2023_ate_10_2024\\OMNI_DADOS_REQUISICAO.csv\n"
     ]
    },
    {
     "name": "stderr",
     "output_type": "stream",
     "text": [
      "d:\\CEIA\\agente-jair-autorizacao\\utils\\state.py:68: DtypeWarning: Columns (17) have mixed types. Specify dtype option on import or set low_memory=False.\n",
      "  self.DADOS_CSV_LIST.append(pd.read_csv(path_csv, encoding='latin1'))\n"
     ]
    },
    {
     "name": "stdout",
     "output_type": "stream",
     "text": [
      "D:\\CEIA\\agente-jair-autorizacao\\data\\Dados_Austa_07_2023_ate_10_2024\\OMNI_DADOS_ITEM.csv\n"
     ]
    },
    {
     "name": "stderr",
     "output_type": "stream",
     "text": [
      "d:\\CEIA\\agente-jair-autorizacao\\utils\\state.py:68: DtypeWarning: Columns (9) have mixed types. Specify dtype option on import or set low_memory=False.\n",
      "  self.DADOS_CSV_LIST.append(pd.read_csv(path_csv, encoding='latin1'))\n"
     ]
    },
    {
     "name": "stdout",
     "output_type": "stream",
     "text": [
      "D:\\CEIA\\agente-jair-autorizacao\\data\\Dados_Austa_07_2023_ate_10_2024\\OMNI_DADOS_PRESTADOR.csv\n",
      "D:\\CEIA\\agente-jair-autorizacao\\data\\Dados_Austa_07_2023_ate_10_2024\\OMNI_DADOS_BENEFICIARIO.csv\n"
     ]
    },
    {
     "name": "stderr",
     "output_type": "stream",
     "text": [
      "d:\\CEIA\\agente-jair-autorizacao\\utils\\state.py:68: DtypeWarning: Columns (18) have mixed types. Specify dtype option on import or set low_memory=False.\n",
      "  self.DADOS_CSV_LIST.append(pd.read_csv(path_csv, encoding='latin1'))\n"
     ]
    },
    {
     "name": "stdout",
     "output_type": "stream",
     "text": [
      "D:\\CEIA\\agente-jair-autorizacao\\data\\Dados_Austa_07_2023_ate_10_2024\\OMNI_DADOS_REQUISICAO_ITEM.csv\n",
      "D:\\CEIA\\agente-jair-autorizacao\\data\\Dados_Austa_07_2023_ate_10_2024\n",
      "ID Beneficiario: 50958\n",
      "Resumo:  {'Número da requisição': 41002890, 'Nome do beneficiário': 'Claudio Antonio da Cruz Junior', 'Médico solicitante': 'HOSPITAL SAO JORGE LTDA', 'Data da abertura da requisição': '04/07/23', 'Tipo Guia': 'Guia de solicitação SP/SADT', 'Caráter de atendimento (Urgência ou eletiva)': 'Urgência/Emergência', 'Idade do beneficiário': 36, 'Situação contratual': 'Contrato ativo', 'Período de carência?': 'Não', 'Descrição dos procedimentos': {10101039: 'Consulta em pronto socorro'}, 'Tipo dos itens (nivel 1)': {10101039: 'PROCEDIMENTOS'}, 'Tipo dos itens (nivel 2)': {10101039: 'PROCEDIMENTOS GERAIS'}, 'ID_REQUISICAO_ITEM': {10101039: 12114456}, 'DT_ATUALIZACAO': {10101039: Timestamp('2021-09-23 00:00:00')}, 'DT_ATUALIZACAO_REQ': {10101039: Timestamp('2023-07-13 00:00:00')}, 'DS_CBO_PROFISSIONAL': 'Médico clínico', 'DS_TIPO_INTERNACAO': nan, 'DS_REGIME_INTERNACAO': nan, 'DS_TIPO_SADT': 'Consulta', 'DS_TIPO_CONSULTA': 'Primeira consulta', 'TITULARIDADE': 'N', 'DATA_CANCELAMENTO': nan, 'DATA_FIM_CARENCIA': 'Não', 'DATA_NASCIMENTO': '2023-07-04'}\n"
     ]
    }
   ],
   "source": [
    "import dotenv\n",
    "dotenv.load_dotenv()\n",
    "from state import STATE_CLASS\n",
    "from get_requisition_details import get_requisition_details\n",
    "\n",
    "def get_state():\n",
    "    return STATE_CLASS()\n",
    "\n",
    "state = get_state()\n",
    "\n",
    "resumo = get_requisition_details(41002890, state) # Req do sample de agosto\n",
    "\n",
    "print(\"Resumo: \", resumo)"
   ]
  }
 ],
 "metadata": {
  "kernelspec": {
   "display_name": ".venv",
   "language": "python",
   "name": "python3"
  },
  "language_info": {
   "codemirror_mode": {
    "name": "ipython",
    "version": 3
   },
   "file_extension": ".py",
   "mimetype": "text/x-python",
   "name": "python",
   "nbconvert_exporter": "python",
   "pygments_lexer": "ipython3",
   "version": "3.11.1"
  }
 },
 "nbformat": 4,
 "nbformat_minor": 2
}
