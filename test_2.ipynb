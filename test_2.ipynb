{
 "cells": [
  {
   "cell_type": "code",
   "execution_count": 25,
   "metadata": {},
   "outputs": [
    {
     "name": "stdout",
     "output_type": "stream",
     "text": [
      "carregando dados de  D:\\CEIA\\agente-jair-autorizacao\\data\\Dados_Austa_07_2023_ate_10_2024\n",
      "D:\\CEIA\\agente-jair-autorizacao\\data\\Dados_Austa_07_2023_ate_10_2024\\OMNI_DADOS_REQUISICAO.csv\n"
     ]
    },
    {
     "name": "stderr",
     "output_type": "stream",
     "text": [
      "d:\\CEIA\\agente-jair-autorizacao\\utils\\state.py:63: DtypeWarning: Columns (17) have mixed types. Specify dtype option on import or set low_memory=False.\n",
      "  self.DADOS_CSV_LIST.append(pd.read_csv(path_csv, encoding='latin1'))\n"
     ]
    },
    {
     "name": "stdout",
     "output_type": "stream",
     "text": [
      "D:\\CEIA\\agente-jair-autorizacao\\data\\Dados_Austa_07_2023_ate_10_2024\\OMNI_DADOS_ITEM.csv\n"
     ]
    },
    {
     "name": "stderr",
     "output_type": "stream",
     "text": [
      "d:\\CEIA\\agente-jair-autorizacao\\utils\\state.py:63: DtypeWarning: Columns (9) have mixed types. Specify dtype option on import or set low_memory=False.\n",
      "  self.DADOS_CSV_LIST.append(pd.read_csv(path_csv, encoding='latin1'))\n"
     ]
    },
    {
     "name": "stdout",
     "output_type": "stream",
     "text": [
      "D:\\CEIA\\agente-jair-autorizacao\\data\\Dados_Austa_07_2023_ate_10_2024\\OMNI_DADOS_PRESTADOR.csv\n",
      "D:\\CEIA\\agente-jair-autorizacao\\data\\Dados_Austa_07_2023_ate_10_2024\\OMNI_DADOS_BENEFICIARIO.csv\n"
     ]
    },
    {
     "name": "stderr",
     "output_type": "stream",
     "text": [
      "d:\\CEIA\\agente-jair-autorizacao\\utils\\state.py:63: DtypeWarning: Columns (18) have mixed types. Specify dtype option on import or set low_memory=False.\n",
      "  self.DADOS_CSV_LIST.append(pd.read_csv(path_csv, encoding='latin1'))\n"
     ]
    },
    {
     "name": "stdout",
     "output_type": "stream",
     "text": [
      "D:\\CEIA\\agente-jair-autorizacao\\data\\Dados_Austa_07_2023_ate_10_2024\\OMNI_DADOS_REQUISICAO_ITEM.csv\n",
      "Caminho hardcoded: D:\\CEIA\\agente-jair-autorizacao\\data\\Dados_Austa_07_2023_ate_10_2024\n",
      "D:\\CEIA\\agente-jair-autorizacao\\data\\Dados_Austa_07_2023_ate_10_2024\n",
      "ID Beneficiario: 50958\n",
      "Resumo:  {'ID_REQUISICAO': 41002890, 'Nome do beneficiário': 'Claudio Antonio da Cruz Junior', 'Médico solicitante': 'HOSPITAL SAO JORGE LTDA', 'DT_REQUISICAO': '04/07/23', 'DS_TIPO_GUIA': 'Guia de solicitação SP/SADT', 'DS_CARATER_ATENDIMENTO': 'Urgência/Emergência', 'Idade do beneficiário': 36, 'DATA_CANCELAMENTO': nan, 'DATA_FIM_CARENCIA': nan, 'DS_ITEM': {10101039: 'Consulta em pronto socorro'}, 'DS_TIPO_ITEM': {10101039: 'PROCEDIMENTOS'}, 'DS_CLASSIFICACAO_1': {10101039: 'PROCEDIMENTOS GERAIS'}, 'ID_REQUISICAO_ITEM': {10101039: 12114456}, 'DT_ATUALIZACAO': {10101039: Timestamp('2021-09-23 00:00:00')}, 'DT_ATUALIZACAO_REQ': {10101039: Timestamp('2023-07-13 00:00:00')}, 'DS_CBO_PROFISSIONAL': 'Médico clínico', 'DS_TIPO_INTERNACAO': nan, 'DS_REGIME_INTERNACAO': nan, 'DS_TIPO_SADT': 'Consulta', 'DS_TIPO_CONSULTA': 'Primeira consulta', 'TITULARIDADE': 'N', 'DATA_NASCIMENTO': '2023-07-04'}\n"
     ]
    }
   ],
   "source": [
    "import dotenv\n",
    "import pandas as pd\n",
    "import numpy as np\n",
    "dotenv.load_dotenv()\n",
    "from utils.state import STATE_CLASS\n",
    "from utils.get_requisition_details import get_requisition_details\n",
    "\n",
    "def get_state():\n",
    "    return STATE_CLASS()\n",
    "\n",
    "state = get_state()\n",
    "\n",
    "resumo = get_requisition_details(41002890, state) # Req do sample de agosto\n",
    "\n",
    "print(\"Resumo: \", resumo)"
   ]
  },
  {
   "cell_type": "code",
   "execution_count": 26,
   "metadata": {},
   "outputs": [
    {
     "data": {
      "text/plain": [
       "{'ID_REQUISICAO': 41002890,\n",
       " 'Nome do beneficiário': 'Claudio Antonio da Cruz Junior',\n",
       " 'Médico solicitante': 'HOSPITAL SAO JORGE LTDA',\n",
       " 'DT_REQUISICAO': '04/07/23',\n",
       " 'DS_TIPO_GUIA': 'Guia de solicitação SP/SADT',\n",
       " 'DS_CARATER_ATENDIMENTO': 'Urgência/Emergência',\n",
       " 'Idade do beneficiário': 36,\n",
       " 'DATA_CANCELAMENTO': nan,\n",
       " 'DATA_FIM_CARENCIA': nan,\n",
       " 'DS_ITEM': {10101039: 'Consulta em pronto socorro'},\n",
       " 'DS_TIPO_ITEM': {10101039: 'PROCEDIMENTOS'},\n",
       " 'DS_CLASSIFICACAO_1': {10101039: 'PROCEDIMENTOS GERAIS'},\n",
       " 'ID_REQUISICAO_ITEM': {10101039: 12114456},\n",
       " 'DT_ATUALIZACAO': {10101039: Timestamp('2021-09-23 00:00:00')},\n",
       " 'DT_ATUALIZACAO_REQ': {10101039: Timestamp('2023-07-13 00:00:00')},\n",
       " 'DS_CBO_PROFISSIONAL': 'Médico clínico',\n",
       " 'DS_TIPO_INTERNACAO': nan,\n",
       " 'DS_REGIME_INTERNACAO': nan,\n",
       " 'DS_TIPO_SADT': 'Consulta',\n",
       " 'DS_TIPO_CONSULTA': 'Primeira consulta',\n",
       " 'TITULARIDADE': 'N',\n",
       " 'DATA_NASCIMENTO': '2023-07-04'}"
      ]
     },
     "execution_count": 26,
     "metadata": {},
     "output_type": "execute_result"
    }
   ],
   "source": [
    "resumo"
   ]
  },
  {
   "cell_type": "code",
   "execution_count": 3,
   "metadata": {},
   "outputs": [
    {
     "data": {
      "text/plain": [
       "nan"
      ]
     },
     "execution_count": 3,
     "metadata": {},
     "output_type": "execute_result"
    }
   ],
   "source": [
    "resumo['DATA_CANCELAMENTO']"
   ]
  },
  {
   "cell_type": "code",
   "execution_count": 4,
   "metadata": {},
   "outputs": [],
   "source": [
    "# Verifica se o valor é NaN\n",
    "import pandas as pd\n",
    "\n",
    "def replace_isNan(resumo, column):\n",
    "    if pd.isna(resumo[column]):  # pd.isna verifica se é NaN\n",
    "        resumo[column] = 0\n",
    "    else:\n",
    "        resumo[column] = 1\n",
    "    return resumo\n",
    "    "
   ]
  },
  {
   "cell_type": "code",
   "execution_count": 5,
   "metadata": {},
   "outputs": [
    {
     "data": {
      "text/plain": [
       "{'ID_REQUISICAO': 41002890,\n",
       " 'Nome do beneficiário': 'Claudio Antonio da Cruz Junior',\n",
       " 'Médico solicitante': 'HOSPITAL SAO JORGE LTDA',\n",
       " 'DT_REQUISICAO': '04/07/23',\n",
       " 'DS_TIPO_GUIA': 'Guia de solicitação SP/SADT',\n",
       " 'DS_CARATER_ATENDIMENTO': 'Urgência/Emergência',\n",
       " 'Idade do beneficiário': 36,\n",
       " 'DATA_CANCELAMENTO': 0,\n",
       " 'DATA_FIM_CARENCIA': nan,\n",
       " 'DS_ITEM': {10101039: 'Consulta em pronto socorro'},\n",
       " 'DS_TIPO_ITEM': {10101039: 'PROCEDIMENTOS'},\n",
       " 'DS_CLASSIFICACAO_1': {10101039: 'PROCEDIMENTOS GERAIS'},\n",
       " 'ID_REQUISICAO_ITEM': {10101039: 12114456},\n",
       " 'DT_ATUALIZACAO': {10101039: Timestamp('2021-09-23 00:00:00')},\n",
       " 'DT_ATUALIZACAO_REQ': {10101039: Timestamp('2023-07-13 00:00:00')},\n",
       " 'DS_CBO_PROFISSIONAL': 'Médico clínico',\n",
       " 'DS_TIPO_INTERNACAO': nan,\n",
       " 'DS_REGIME_INTERNACAO': nan,\n",
       " 'DS_TIPO_SADT': 'Consulta',\n",
       " 'DS_TIPO_CONSULTA': 'Primeira consulta',\n",
       " 'TITULARIDADE': 'N',\n",
       " 'DATA_NASCIMENTO': '2023-07-04'}"
      ]
     },
     "execution_count": 5,
     "metadata": {},
     "output_type": "execute_result"
    }
   ],
   "source": [
    "resumo = replace_isNan(resumo, 'DATA_CANCELAMENTO')\n",
    "resumo"
   ]
  },
  {
   "cell_type": "code",
   "execution_count": 6,
   "metadata": {},
   "outputs": [
    {
     "data": {
      "text/plain": [
       "{'ID_REQUISICAO': 41002890,\n",
       " 'Nome do beneficiário': 'Claudio Antonio da Cruz Junior',\n",
       " 'Médico solicitante': 'HOSPITAL SAO JORGE LTDA',\n",
       " 'DT_REQUISICAO': '04/07/23',\n",
       " 'DS_TIPO_GUIA': 'Guia de solicitação SP/SADT',\n",
       " 'DS_CARATER_ATENDIMENTO': 'Urgência/Emergência',\n",
       " 'Idade do beneficiário': 36,\n",
       " 'DATA_CANCELAMENTO': 0,\n",
       " 'DATA_FIM_CARENCIA': 0,\n",
       " 'DS_ITEM': {10101039: 'Consulta em pronto socorro'},\n",
       " 'DS_TIPO_ITEM': {10101039: 'PROCEDIMENTOS'},\n",
       " 'DS_CLASSIFICACAO_1': {10101039: 'PROCEDIMENTOS GERAIS'},\n",
       " 'ID_REQUISICAO_ITEM': {10101039: 12114456},\n",
       " 'DT_ATUALIZACAO': {10101039: Timestamp('2021-09-23 00:00:00')},\n",
       " 'DT_ATUALIZACAO_REQ': {10101039: Timestamp('2023-07-13 00:00:00')},\n",
       " 'DS_CBO_PROFISSIONAL': 'Médico clínico',\n",
       " 'DS_TIPO_INTERNACAO': nan,\n",
       " 'DS_REGIME_INTERNACAO': nan,\n",
       " 'DS_TIPO_SADT': 'Consulta',\n",
       " 'DS_TIPO_CONSULTA': 'Primeira consulta',\n",
       " 'TITULARIDADE': 'N',\n",
       " 'DATA_NASCIMENTO': '2023-07-04'}"
      ]
     },
     "execution_count": 6,
     "metadata": {},
     "output_type": "execute_result"
    }
   ],
   "source": [
    "resumo = replace_isNan(resumo, 'DATA_FIM_CARENCIA') \n",
    "resumo"
   ]
  },
  {
   "cell_type": "code",
   "execution_count": 7,
   "metadata": {},
   "outputs": [],
   "source": [
    "def converter_titularidade(resumo, column):\n",
    "\n",
    "    if column in resumo:\n",
    "        if resumo[column] == 'N':\n",
    "            resumo[column] = 0\n",
    "        elif resumo[column] == 'S':\n",
    "            resumo[column] = 1\n",
    "    return resumo\n"
   ]
  },
  {
   "cell_type": "code",
   "execution_count": 8,
   "metadata": {},
   "outputs": [
    {
     "data": {
      "text/plain": [
       "{'ID_REQUISICAO': 41002890,\n",
       " 'Nome do beneficiário': 'Claudio Antonio da Cruz Junior',\n",
       " 'Médico solicitante': 'HOSPITAL SAO JORGE LTDA',\n",
       " 'DT_REQUISICAO': '04/07/23',\n",
       " 'DS_TIPO_GUIA': 'Guia de solicitação SP/SADT',\n",
       " 'DS_CARATER_ATENDIMENTO': 'Urgência/Emergência',\n",
       " 'Idade do beneficiário': 36,\n",
       " 'DATA_CANCELAMENTO': 0,\n",
       " 'DATA_FIM_CARENCIA': 0,\n",
       " 'DS_ITEM': {10101039: 'Consulta em pronto socorro'},\n",
       " 'DS_TIPO_ITEM': {10101039: 'PROCEDIMENTOS'},\n",
       " 'DS_CLASSIFICACAO_1': {10101039: 'PROCEDIMENTOS GERAIS'},\n",
       " 'ID_REQUISICAO_ITEM': {10101039: 12114456},\n",
       " 'DT_ATUALIZACAO': {10101039: Timestamp('2021-09-23 00:00:00')},\n",
       " 'DT_ATUALIZACAO_REQ': {10101039: Timestamp('2023-07-13 00:00:00')},\n",
       " 'DS_CBO_PROFISSIONAL': 'Médico clínico',\n",
       " 'DS_TIPO_INTERNACAO': nan,\n",
       " 'DS_REGIME_INTERNACAO': nan,\n",
       " 'DS_TIPO_SADT': 'Consulta',\n",
       " 'DS_TIPO_CONSULTA': 'Primeira consulta',\n",
       " 'TITULARIDADE': 0,\n",
       " 'DATA_NASCIMENTO': '2023-07-04'}"
      ]
     },
     "execution_count": 8,
     "metadata": {},
     "output_type": "execute_result"
    }
   ],
   "source": [
    "resumo = converter_titularidade(resumo, 'TITULARIDADE') \n",
    "resumo"
   ]
  },
  {
   "cell_type": "code",
   "execution_count": 19,
   "metadata": {},
   "outputs": [
    {
     "data": {
      "text/html": [
       "<div>\n",
       "<style scoped>\n",
       "    .dataframe tbody tr th:only-of-type {\n",
       "        vertical-align: middle;\n",
       "    }\n",
       "\n",
       "    .dataframe tbody tr th {\n",
       "        vertical-align: top;\n",
       "    }\n",
       "\n",
       "    .dataframe thead th {\n",
       "        text-align: right;\n",
       "    }\n",
       "</style>\n",
       "<table border=\"1\" class=\"dataframe\">\n",
       "  <thead>\n",
       "    <tr style=\"text-align: right;\">\n",
       "      <th></th>\n",
       "      <th>ID_REQUISICAO</th>\n",
       "      <th>Nome do beneficiário</th>\n",
       "      <th>Médico solicitante</th>\n",
       "      <th>DT_REQUISICAO</th>\n",
       "      <th>DS_TIPO_GUIA</th>\n",
       "      <th>DS_CARATER_ATENDIMENTO</th>\n",
       "      <th>Idade do beneficiário</th>\n",
       "      <th>DATA_CANCELAMENTO</th>\n",
       "      <th>DATA_FIM_CARENCIA</th>\n",
       "      <th>DS_ITEM</th>\n",
       "      <th>...</th>\n",
       "      <th>ID_REQUISICAO_ITEM</th>\n",
       "      <th>DT_ATUALIZACAO</th>\n",
       "      <th>DT_ATUALIZACAO_REQ</th>\n",
       "      <th>DS_CBO_PROFISSIONAL</th>\n",
       "      <th>DS_TIPO_INTERNACAO</th>\n",
       "      <th>DS_REGIME_INTERNACAO</th>\n",
       "      <th>DS_TIPO_SADT</th>\n",
       "      <th>DS_TIPO_CONSULTA</th>\n",
       "      <th>TITULARIDADE</th>\n",
       "      <th>DATA_NASCIMENTO</th>\n",
       "    </tr>\n",
       "  </thead>\n",
       "  <tbody>\n",
       "    <tr>\n",
       "      <th>0</th>\n",
       "      <td>41002890</td>\n",
       "      <td>Claudio Antonio da Cruz Junior</td>\n",
       "      <td>HOSPITAL SAO JORGE LTDA</td>\n",
       "      <td>04/07/23</td>\n",
       "      <td>Guia de solicitação SP/SADT</td>\n",
       "      <td>Urgência/Emergência</td>\n",
       "      <td>36</td>\n",
       "      <td>0</td>\n",
       "      <td>0</td>\n",
       "      <td>{10101039: 'Consulta em pronto socorro'}</td>\n",
       "      <td>...</td>\n",
       "      <td>{10101039: 12114456}</td>\n",
       "      <td>{10101039: 2021-09-23 00:00:00}</td>\n",
       "      <td>{10101039: 2023-07-13 00:00:00}</td>\n",
       "      <td>Médico clínico</td>\n",
       "      <td>NaN</td>\n",
       "      <td>NaN</td>\n",
       "      <td>Consulta</td>\n",
       "      <td>Primeira consulta</td>\n",
       "      <td>0</td>\n",
       "      <td>2023-07-04</td>\n",
       "    </tr>\n",
       "  </tbody>\n",
       "</table>\n",
       "<p>1 rows × 22 columns</p>\n",
       "</div>"
      ],
      "text/plain": [
       "   ID_REQUISICAO            Nome do beneficiário       Médico solicitante  \\\n",
       "0       41002890  Claudio Antonio da Cruz Junior  HOSPITAL SAO JORGE LTDA   \n",
       "\n",
       "  DT_REQUISICAO                 DS_TIPO_GUIA DS_CARATER_ATENDIMENTO  \\\n",
       "0      04/07/23  Guia de solicitação SP/SADT    Urgência/Emergência   \n",
       "\n",
       "   Idade do beneficiário  DATA_CANCELAMENTO  DATA_FIM_CARENCIA  \\\n",
       "0                     36                  0                  0   \n",
       "\n",
       "                                    DS_ITEM  ...    ID_REQUISICAO_ITEM  \\\n",
       "0  {10101039: 'Consulta em pronto socorro'}  ...  {10101039: 12114456}   \n",
       "\n",
       "                    DT_ATUALIZACAO               DT_ATUALIZACAO_REQ  \\\n",
       "0  {10101039: 2021-09-23 00:00:00}  {10101039: 2023-07-13 00:00:00}   \n",
       "\n",
       "  DS_CBO_PROFISSIONAL DS_TIPO_INTERNACAO DS_REGIME_INTERNACAO  DS_TIPO_SADT  \\\n",
       "0      Médico clínico                NaN                  NaN      Consulta   \n",
       "\n",
       "    DS_TIPO_CONSULTA TITULARIDADE DATA_NASCIMENTO  \n",
       "0  Primeira consulta            0      2023-07-04  \n",
       "\n",
       "[1 rows x 22 columns]"
      ]
     },
     "execution_count": 19,
     "metadata": {},
     "output_type": "execute_result"
    }
   ],
   "source": [
    "data_df = pd.DataFrame([resumo])\n",
    "data_df"
   ]
  },
  {
   "cell_type": "code",
   "execution_count": 17,
   "metadata": {},
   "outputs": [
    {
     "data": {
      "text/plain": [
       "float"
      ]
     },
     "execution_count": 17,
     "metadata": {},
     "output_type": "execute_result"
    }
   ],
   "source": [
    "type(resumo['DS_TIPO_INTERNACAO'])"
   ]
  },
  {
   "cell_type": "code",
   "execution_count": 22,
   "metadata": {},
   "outputs": [],
   "source": [
    "colunas_para_codificar = ['DS_TIPO_GUIA', 'DS_CARATER_ATENDIMENTO', 'DS_TIPO_INTERNACAO', \n",
    "                          'DS_CBO_PROFISSIONAL', 'DS_REGIME_INTERNACAO', 'DS_TIPO_SADT', \n",
    "                          'DS_TIPO_CONSULTA', 'DS_TIPO_ITEM', 'DS_CLASSIFICACAO_1']\n",
    "\n",
    "# Substitui os valores dessas colunas com nan para np.nan\n",
    "for col in colunas_para_codificar:\n",
    "    if resumo.get(col) is None:\n",
    "        resumo[col] = np.nan"
   ]
  },
  {
   "cell_type": "code",
   "execution_count": 23,
   "metadata": {},
   "outputs": [
    {
     "data": {
      "text/plain": [
       "{'ID_REQUISICAO': 41002890,\n",
       " 'Nome do beneficiário': 'Claudio Antonio da Cruz Junior',\n",
       " 'Médico solicitante': 'HOSPITAL SAO JORGE LTDA',\n",
       " 'DT_REQUISICAO': '04/07/23',\n",
       " 'DS_TIPO_GUIA': 'Guia de solicitação SP/SADT',\n",
       " 'DS_CARATER_ATENDIMENTO': 'Urgência/Emergência',\n",
       " 'Idade do beneficiário': 36,\n",
       " 'DATA_CANCELAMENTO': 0,\n",
       " 'DATA_FIM_CARENCIA': 0,\n",
       " 'DS_ITEM': {10101039: 'Consulta em pronto socorro'},\n",
       " 'DS_TIPO_ITEM': {10101039: 'PROCEDIMENTOS'},\n",
       " 'DS_CLASSIFICACAO_1': {10101039: 'PROCEDIMENTOS GERAIS'},\n",
       " 'ID_REQUISICAO_ITEM': {10101039: 12114456},\n",
       " 'DT_ATUALIZACAO': {10101039: Timestamp('2021-09-23 00:00:00')},\n",
       " 'DT_ATUALIZACAO_REQ': {10101039: Timestamp('2023-07-13 00:00:00')},\n",
       " 'DS_CBO_PROFISSIONAL': 'Médico clínico',\n",
       " 'DS_TIPO_INTERNACAO': nan,\n",
       " 'DS_REGIME_INTERNACAO': nan,\n",
       " 'DS_TIPO_SADT': 'Consulta',\n",
       " 'DS_TIPO_CONSULTA': 'Primeira consulta',\n",
       " 'TITULARIDADE': 0,\n",
       " 'DATA_NASCIMENTO': '2023-07-04'}"
      ]
     },
     "execution_count": 23,
     "metadata": {},
     "output_type": "execute_result"
    }
   ],
   "source": [
    "resumo"
   ]
  },
  {
   "cell_type": "code",
   "execution_count": 24,
   "metadata": {},
   "outputs": [
    {
     "ename": "TypeError",
     "evalue": "ufunc 'isnan' not supported for the input types, and the inputs could not be safely coerced to any supported types according to the casting rule ''safe''",
     "output_type": "error",
     "traceback": [
      "\u001b[1;31m---------------------------------------------------------------------------\u001b[0m",
      "\u001b[1;31mTypeError\u001b[0m                                 Traceback (most recent call last)",
      "Cell \u001b[1;32mIn[24], line 21\u001b[0m\n\u001b[0;32m     18\u001b[0m encoder\u001b[38;5;241m.\u001b[39munknown_value \u001b[38;5;241m=\u001b[39m \u001b[38;5;124m'\u001b[39m\u001b[38;5;124mnan\u001b[39m\u001b[38;5;124m'\u001b[39m  \u001b[38;5;66;03m# Valor codificado para os NaNs\u001b[39;00m\n\u001b[0;32m     20\u001b[0m \u001b[38;5;66;03m# Aplique o encoder nas colunas desejadas, substituindo NaN por 'nan' (se necessário)\u001b[39;00m\n\u001b[1;32m---> 21\u001b[0m encoded_array \u001b[38;5;241m=\u001b[39m \u001b[43mencoder\u001b[49m\u001b[38;5;241;43m.\u001b[39;49m\u001b[43mtransform\u001b[49m\u001b[43m(\u001b[49m\u001b[43mdata_df\u001b[49m\u001b[43m[\u001b[49m\u001b[43mcolunas_para_codificar\u001b[49m\u001b[43m]\u001b[49m\u001b[43m)\u001b[49m\n\u001b[0;32m     23\u001b[0m \u001b[38;5;66;03m# Crie um DataFrame com os resultados codificados\u001b[39;00m\n\u001b[0;32m     24\u001b[0m encoded_df \u001b[38;5;241m=\u001b[39m pd\u001b[38;5;241m.\u001b[39mDataFrame(\n\u001b[0;32m     25\u001b[0m     encoded_array,\n\u001b[0;32m     26\u001b[0m     columns\u001b[38;5;241m=\u001b[39mencoder\u001b[38;5;241m.\u001b[39mget_feature_names_out(colunas_para_codificar),\n\u001b[0;32m     27\u001b[0m     index\u001b[38;5;241m=\u001b[39mdata_df\u001b[38;5;241m.\u001b[39mindex\n\u001b[0;32m     28\u001b[0m )\n",
      "File \u001b[1;32md:\\CEIA\\agente-jair-autorizacao\\.venv\\Lib\\site-packages\\sklearn\\utils\\_set_output.py:316\u001b[0m, in \u001b[0;36m_wrap_method_output.<locals>.wrapped\u001b[1;34m(self, X, *args, **kwargs)\u001b[0m\n\u001b[0;32m    314\u001b[0m \u001b[38;5;129m@wraps\u001b[39m(f)\n\u001b[0;32m    315\u001b[0m \u001b[38;5;28;01mdef\u001b[39;00m \u001b[38;5;21mwrapped\u001b[39m(\u001b[38;5;28mself\u001b[39m, X, \u001b[38;5;241m*\u001b[39margs, \u001b[38;5;241m*\u001b[39m\u001b[38;5;241m*\u001b[39mkwargs):\n\u001b[1;32m--> 316\u001b[0m     data_to_wrap \u001b[38;5;241m=\u001b[39m \u001b[43mf\u001b[49m\u001b[43m(\u001b[49m\u001b[38;5;28;43mself\u001b[39;49m\u001b[43m,\u001b[49m\u001b[43m \u001b[49m\u001b[43mX\u001b[49m\u001b[43m,\u001b[49m\u001b[43m \u001b[49m\u001b[38;5;241;43m*\u001b[39;49m\u001b[43margs\u001b[49m\u001b[43m,\u001b[49m\u001b[43m \u001b[49m\u001b[38;5;241;43m*\u001b[39;49m\u001b[38;5;241;43m*\u001b[39;49m\u001b[43mkwargs\u001b[49m\u001b[43m)\u001b[49m\n\u001b[0;32m    317\u001b[0m     \u001b[38;5;28;01mif\u001b[39;00m \u001b[38;5;28misinstance\u001b[39m(data_to_wrap, \u001b[38;5;28mtuple\u001b[39m):\n\u001b[0;32m    318\u001b[0m         \u001b[38;5;66;03m# only wrap the first output for cross decomposition\u001b[39;00m\n\u001b[0;32m    319\u001b[0m         return_tuple \u001b[38;5;241m=\u001b[39m (\n\u001b[0;32m    320\u001b[0m             _wrap_data_with_container(method, data_to_wrap[\u001b[38;5;241m0\u001b[39m], X, \u001b[38;5;28mself\u001b[39m),\n\u001b[0;32m    321\u001b[0m             \u001b[38;5;241m*\u001b[39mdata_to_wrap[\u001b[38;5;241m1\u001b[39m:],\n\u001b[0;32m    322\u001b[0m         )\n",
      "File \u001b[1;32md:\\CEIA\\agente-jair-autorizacao\\.venv\\Lib\\site-packages\\sklearn\\preprocessing\\_encoders.py:1024\u001b[0m, in \u001b[0;36mOneHotEncoder.transform\u001b[1;34m(self, X)\u001b[0m\n\u001b[0;32m   1019\u001b[0m \u001b[38;5;66;03m# validation of X happens in _check_X called by _transform\u001b[39;00m\n\u001b[0;32m   1020\u001b[0m warn_on_unknown \u001b[38;5;241m=\u001b[39m \u001b[38;5;28mself\u001b[39m\u001b[38;5;241m.\u001b[39mdrop \u001b[38;5;129;01mis\u001b[39;00m \u001b[38;5;129;01mnot\u001b[39;00m \u001b[38;5;28;01mNone\u001b[39;00m \u001b[38;5;129;01mand\u001b[39;00m \u001b[38;5;28mself\u001b[39m\u001b[38;5;241m.\u001b[39mhandle_unknown \u001b[38;5;129;01min\u001b[39;00m {\n\u001b[0;32m   1021\u001b[0m     \u001b[38;5;124m\"\u001b[39m\u001b[38;5;124mignore\u001b[39m\u001b[38;5;124m\"\u001b[39m,\n\u001b[0;32m   1022\u001b[0m     \u001b[38;5;124m\"\u001b[39m\u001b[38;5;124minfrequent_if_exist\u001b[39m\u001b[38;5;124m\"\u001b[39m,\n\u001b[0;32m   1023\u001b[0m }\n\u001b[1;32m-> 1024\u001b[0m X_int, X_mask \u001b[38;5;241m=\u001b[39m \u001b[38;5;28;43mself\u001b[39;49m\u001b[38;5;241;43m.\u001b[39;49m\u001b[43m_transform\u001b[49m\u001b[43m(\u001b[49m\n\u001b[0;32m   1025\u001b[0m \u001b[43m    \u001b[49m\u001b[43mX\u001b[49m\u001b[43m,\u001b[49m\n\u001b[0;32m   1026\u001b[0m \u001b[43m    \u001b[49m\u001b[43mhandle_unknown\u001b[49m\u001b[38;5;241;43m=\u001b[39;49m\u001b[38;5;28;43mself\u001b[39;49m\u001b[38;5;241;43m.\u001b[39;49m\u001b[43mhandle_unknown\u001b[49m\u001b[43m,\u001b[49m\n\u001b[0;32m   1027\u001b[0m \u001b[43m    \u001b[49m\u001b[43mforce_all_finite\u001b[49m\u001b[38;5;241;43m=\u001b[39;49m\u001b[38;5;124;43m\"\u001b[39;49m\u001b[38;5;124;43mallow-nan\u001b[39;49m\u001b[38;5;124;43m\"\u001b[39;49m\u001b[43m,\u001b[49m\n\u001b[0;32m   1028\u001b[0m \u001b[43m    \u001b[49m\u001b[43mwarn_on_unknown\u001b[49m\u001b[38;5;241;43m=\u001b[39;49m\u001b[43mwarn_on_unknown\u001b[49m\u001b[43m,\u001b[49m\n\u001b[0;32m   1029\u001b[0m \u001b[43m\u001b[49m\u001b[43m)\u001b[49m\n\u001b[0;32m   1031\u001b[0m n_samples, n_features \u001b[38;5;241m=\u001b[39m X_int\u001b[38;5;241m.\u001b[39mshape\n\u001b[0;32m   1033\u001b[0m \u001b[38;5;28;01mif\u001b[39;00m \u001b[38;5;28mself\u001b[39m\u001b[38;5;241m.\u001b[39m_drop_idx_after_grouping \u001b[38;5;129;01mis\u001b[39;00m \u001b[38;5;129;01mnot\u001b[39;00m \u001b[38;5;28;01mNone\u001b[39;00m:\n",
      "File \u001b[1;32md:\\CEIA\\agente-jair-autorizacao\\.venv\\Lib\\site-packages\\sklearn\\preprocessing\\_encoders.py:206\u001b[0m, in \u001b[0;36m_BaseEncoder._transform\u001b[1;34m(self, X, handle_unknown, force_all_finite, warn_on_unknown, ignore_category_indices)\u001b[0m\n\u001b[0;32m    204\u001b[0m \u001b[38;5;28;01mfor\u001b[39;00m i \u001b[38;5;129;01min\u001b[39;00m \u001b[38;5;28mrange\u001b[39m(n_features):\n\u001b[0;32m    205\u001b[0m     Xi \u001b[38;5;241m=\u001b[39m X_list[i]\n\u001b[1;32m--> 206\u001b[0m     diff, valid_mask \u001b[38;5;241m=\u001b[39m \u001b[43m_check_unknown\u001b[49m\u001b[43m(\u001b[49m\u001b[43mXi\u001b[49m\u001b[43m,\u001b[49m\u001b[43m \u001b[49m\u001b[38;5;28;43mself\u001b[39;49m\u001b[38;5;241;43m.\u001b[39;49m\u001b[43mcategories_\u001b[49m\u001b[43m[\u001b[49m\u001b[43mi\u001b[49m\u001b[43m]\u001b[49m\u001b[43m,\u001b[49m\u001b[43m \u001b[49m\u001b[43mreturn_mask\u001b[49m\u001b[38;5;241;43m=\u001b[39;49m\u001b[38;5;28;43;01mTrue\u001b[39;49;00m\u001b[43m)\u001b[49m\n\u001b[0;32m    208\u001b[0m     \u001b[38;5;28;01mif\u001b[39;00m \u001b[38;5;129;01mnot\u001b[39;00m np\u001b[38;5;241m.\u001b[39mall(valid_mask):\n\u001b[0;32m    209\u001b[0m         \u001b[38;5;28;01mif\u001b[39;00m handle_unknown \u001b[38;5;241m==\u001b[39m \u001b[38;5;124m\"\u001b[39m\u001b[38;5;124merror\u001b[39m\u001b[38;5;124m\"\u001b[39m:\n",
      "File \u001b[1;32md:\\CEIA\\agente-jair-autorizacao\\.venv\\Lib\\site-packages\\sklearn\\utils\\_encode.py:304\u001b[0m, in \u001b[0;36m_check_unknown\u001b[1;34m(values, known_values, return_mask)\u001b[0m\n\u001b[0;32m    301\u001b[0m         valid_mask \u001b[38;5;241m=\u001b[39m np\u001b[38;5;241m.\u001b[39mones(\u001b[38;5;28mlen\u001b[39m(values), dtype\u001b[38;5;241m=\u001b[39m\u001b[38;5;28mbool\u001b[39m)\n\u001b[0;32m    303\u001b[0m \u001b[38;5;66;03m# check for nans in the known_values\u001b[39;00m\n\u001b[1;32m--> 304\u001b[0m \u001b[38;5;28;01mif\u001b[39;00m \u001b[43mnp\u001b[49m\u001b[38;5;241;43m.\u001b[39;49m\u001b[43misnan\u001b[49m\u001b[43m(\u001b[49m\u001b[43mknown_values\u001b[49m\u001b[43m)\u001b[49m\u001b[38;5;241m.\u001b[39many():\n\u001b[0;32m    305\u001b[0m     diff_is_nan \u001b[38;5;241m=\u001b[39m np\u001b[38;5;241m.\u001b[39misnan(diff)\n\u001b[0;32m    306\u001b[0m     \u001b[38;5;28;01mif\u001b[39;00m diff_is_nan\u001b[38;5;241m.\u001b[39many():\n\u001b[0;32m    307\u001b[0m         \u001b[38;5;66;03m# removes nan from valid_mask\u001b[39;00m\n",
      "\u001b[1;31mTypeError\u001b[0m: ufunc 'isnan' not supported for the input types, and the inputs could not be safely coerced to any supported types according to the casting rule ''safe''"
     ]
    }
   ],
   "source": [
    "import pickle\n",
    "# Colunas que você deseja codificar\n",
    "colunas_para_codificar = [\n",
    "    'DS_TIPO_GUIA', 'DS_CARATER_ATENDIMENTO', 'DS_TIPO_INTERNACAO',\n",
    "    'DS_CBO_PROFISSIONAL', 'DS_REGIME_INTERNACAO', 'DS_TIPO_SADT',\n",
    "    'DS_TIPO_CONSULTA', 'DS_TIPO_ITEM', 'DS_CLASSIFICACAO_1'\n",
    "]\n",
    "\n",
    "# Transformando o dicionário em DataFrame para aplicar o OneHotEncoder\n",
    "data_df = pd.DataFrame([resumo])  # O dicionário precisa ser envolto em uma lista para se tornar DataFrame\n",
    "\n",
    "# Carregar o OneHotEncoder salvo\n",
    "with open(r'D:\\CEIA\\agente-jair-autorizacao\\modelo_ml_tradicional\\onehotencoder.pkl', 'rb') as file:\n",
    "    encoder = pickle.load(file)\n",
    "\n",
    "# Garantir que o encoder usa a configuração 'use_encoded_value' para lidar com NaNs\n",
    "encoder.handle_unknown = 'use_encoded_value'\n",
    "encoder.unknown_value = 'nan'  # Valor codificado para os NaNs\n",
    "\n",
    "# Aplique o encoder nas colunas desejadas, substituindo NaN por 'nan' (se necessário)\n",
    "encoded_array = encoder.transform(data_df[colunas_para_codificar])\n",
    "\n",
    "# Crie um DataFrame com os resultados codificados\n",
    "encoded_df = pd.DataFrame(\n",
    "    encoded_array,\n",
    "    columns=encoder.get_feature_names_out(colunas_para_codificar),\n",
    "    index=data_df.index\n",
    ")\n",
    "\n",
    "# Concatene o DataFrame original com o DataFrame codificado\n",
    "final_df = pd.concat([data_df, encoded_df], axis=1)\n",
    "\n",
    "# Remova as colunas originais do dicionário\n",
    "final_df.drop(columns=colunas_para_codificar, inplace=True)\n",
    "\n",
    "# Exiba o resultado\n",
    "print(final_df.head())\n"
   ]
  },
  {
   "cell_type": "code",
   "execution_count": null,
   "metadata": {},
   "outputs": [],
   "source": []
  },
  {
   "cell_type": "code",
   "execution_count": null,
   "metadata": {},
   "outputs": [],
   "source": []
  },
  {
   "cell_type": "code",
   "execution_count": null,
   "metadata": {},
   "outputs": [],
   "source": []
  }
 ],
 "metadata": {
  "kernelspec": {
   "display_name": ".venv",
   "language": "python",
   "name": "python3"
  },
  "language_info": {
   "codemirror_mode": {
    "name": "ipython",
    "version": 3
   },
   "file_extension": ".py",
   "mimetype": "text/x-python",
   "name": "python",
   "nbconvert_exporter": "python",
   "pygments_lexer": "ipython3",
   "version": "3.11.1"
  }
 },
 "nbformat": 4,
 "nbformat_minor": 2
}
