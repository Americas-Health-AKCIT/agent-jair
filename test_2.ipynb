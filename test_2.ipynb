{
 "cells": [
  {
   "cell_type": "code",
   "execution_count": 35,
   "metadata": {},
   "outputs": [
    {
     "name": "stdout",
     "output_type": "stream",
     "text": [
      "carregando dados de  D:\\CEIA\\agente-jair-autorizacao\\data\\Dados_Austa_07_2023_ate_10_2024\n",
      "D:\\CEIA\\agente-jair-autorizacao\\data\\Dados_Austa_07_2023_ate_10_2024\\OMNI_DADOS_REQUISICAO.csv\n"
     ]
    },
    {
     "name": "stderr",
     "output_type": "stream",
     "text": [
      "d:\\CEIA\\agente-jair-autorizacao\\utils\\state.py:68: DtypeWarning: Columns (17) have mixed types. Specify dtype option on import or set low_memory=False.\n",
      "  self.DADOS_CSV_LIST.append(pd.read_csv(path_csv, encoding='latin1'))\n"
     ]
    },
    {
     "name": "stdout",
     "output_type": "stream",
     "text": [
      "D:\\CEIA\\agente-jair-autorizacao\\data\\Dados_Austa_07_2023_ate_10_2024\\OMNI_DADOS_ITEM.csv\n"
     ]
    },
    {
     "name": "stderr",
     "output_type": "stream",
     "text": [
      "d:\\CEIA\\agente-jair-autorizacao\\utils\\state.py:68: DtypeWarning: Columns (9) have mixed types. Specify dtype option on import or set low_memory=False.\n",
      "  self.DADOS_CSV_LIST.append(pd.read_csv(path_csv, encoding='latin1'))\n"
     ]
    },
    {
     "name": "stdout",
     "output_type": "stream",
     "text": [
      "D:\\CEIA\\agente-jair-autorizacao\\data\\Dados_Austa_07_2023_ate_10_2024\\OMNI_DADOS_PRESTADOR.csv\n",
      "D:\\CEIA\\agente-jair-autorizacao\\data\\Dados_Austa_07_2023_ate_10_2024\\OMNI_DADOS_BENEFICIARIO.csv\n"
     ]
    },
    {
     "name": "stderr",
     "output_type": "stream",
     "text": [
      "d:\\CEIA\\agente-jair-autorizacao\\utils\\state.py:68: DtypeWarning: Columns (18) have mixed types. Specify dtype option on import or set low_memory=False.\n",
      "  self.DADOS_CSV_LIST.append(pd.read_csv(path_csv, encoding='latin1'))\n"
     ]
    },
    {
     "name": "stdout",
     "output_type": "stream",
     "text": [
      "D:\\CEIA\\agente-jair-autorizacao\\data\\Dados_Austa_07_2023_ate_10_2024\\OMNI_DADOS_REQUISICAO_ITEM.csv\n",
      "D:\\CEIA\\agente-jair-autorizacao\\data\\Dados_Austa_07_2023_ate_10_2024\n",
      "ID Beneficiario: 50958\n",
      "Resumo:  {'Número da requisição': 41002890, 'Nome do beneficiário': 'Claudio Antonio da Cruz Junior', 'Médico solicitante': 'HOSPITAL SAO JORGE LTDA', 'Data da abertura da requisição': '04/07/23', 'Tipo Guia': 'Guia de solicitação SP/SADT', 'Caráter de atendimento (Urgência ou eletiva)': 'Urgência/Emergência', 'Idade do beneficiário': 36, 'Situação contratual': 'Contrato ativo', 'Período de carência?': 'Não', 'Descrição dos procedimentos': {10101039: 'Consulta em pronto socorro'}, 'Tipo dos itens (nivel 1)': {10101039: 'PROCEDIMENTOS'}, 'Tipo dos itens (nivel 2)': {10101039: 'PROCEDIMENTOS GERAIS'}, 'ID_REQUISICAO_ITEM': {10101039: 12114456}, 'DT_ATUALIZACAO': {10101039: Timestamp('2021-09-23 00:00:00')}, 'DT_ATUALIZACAO_REQ': {10101039: Timestamp('2023-07-13 00:00:00')}, 'DS_CBO_PROFISSIONAL': 'Médico clínico', 'DS_TIPO_INTERNACAO': nan, 'DS_REGIME_INTERNACAO': nan, 'DS_TIPO_SADT': 'Consulta', 'DS_TIPO_CONSULTA': 'Primeira consulta', 'TITULARIDADE': 'N', 'DATA_CANCELAMENTO': nan, 'DATA_FIM_CARENCIA': 'Não', 'DATA_NASCIMENTO': '2023-07-04'}\n"
     ]
    }
   ],
   "source": [
    "import dotenv\n",
    "import pandas as pd\n",
    "import numpy as np\n",
    "dotenv.load_dotenv()\n",
    "from utils.state import STATE_CLASS\n",
    "from utils.get_requisition_details import get_requisition_details\n",
    "\n",
    "def get_state():\n",
    "    return STATE_CLASS()\n",
    "\n",
    "state = get_state()\n",
    "\n",
    "resumo = get_requisition_details(41002890, state) # Req do sample de agosto\n",
    "\n",
    "print(\"Resumo: \", resumo)"
   ]
  },
  {
   "cell_type": "code",
   "execution_count": 36,
   "metadata": {},
   "outputs": [
    {
     "data": {
      "text/plain": [
       "{'Número da requisição': 41002890,\n",
       " 'Nome do beneficiário': 'Claudio Antonio da Cruz Junior',\n",
       " 'Médico solicitante': 'HOSPITAL SAO JORGE LTDA',\n",
       " 'Data da abertura da requisição': '04/07/23',\n",
       " 'Tipo Guia': 'Guia de solicitação SP/SADT',\n",
       " 'Caráter de atendimento (Urgência ou eletiva)': 'Urgência/Emergência',\n",
       " 'Idade do beneficiário': 36,\n",
       " 'Situação contratual': 'Contrato ativo',\n",
       " 'Período de carência?': 'Não',\n",
       " 'Descrição dos procedimentos': {10101039: 'Consulta em pronto socorro'},\n",
       " 'Tipo dos itens (nivel 1)': {10101039: 'PROCEDIMENTOS'},\n",
       " 'Tipo dos itens (nivel 2)': {10101039: 'PROCEDIMENTOS GERAIS'},\n",
       " 'ID_REQUISICAO_ITEM': {10101039: 12114456},\n",
       " 'DT_ATUALIZACAO': {10101039: Timestamp('2021-09-23 00:00:00')},\n",
       " 'DT_ATUALIZACAO_REQ': {10101039: Timestamp('2023-07-13 00:00:00')},\n",
       " 'DS_CBO_PROFISSIONAL': 'Médico clínico',\n",
       " 'DS_TIPO_INTERNACAO': nan,\n",
       " 'DS_REGIME_INTERNACAO': nan,\n",
       " 'DS_TIPO_SADT': 'Consulta',\n",
       " 'DS_TIPO_CONSULTA': 'Primeira consulta',\n",
       " 'TITULARIDADE': 'N',\n",
       " 'DATA_CANCELAMENTO': nan,\n",
       " 'DATA_FIM_CARENCIA': 'Não',\n",
       " 'DATA_NASCIMENTO': '2023-07-04'}"
      ]
     },
     "execution_count": 36,
     "metadata": {},
     "output_type": "execute_result"
    }
   ],
   "source": [
    "resumo"
   ]
  },
  {
   "cell_type": "code",
   "execution_count": 37,
   "metadata": {},
   "outputs": [
    {
     "data": {
      "text/plain": [
       "nan"
      ]
     },
     "execution_count": 37,
     "metadata": {},
     "output_type": "execute_result"
    }
   ],
   "source": [
    "resumo['DATA_CANCELAMENTO']"
   ]
  },
  {
   "cell_type": "code",
   "execution_count": 38,
   "metadata": {},
   "outputs": [],
   "source": [
    "# Verifica se o valor é NaN\n",
    "import pandas as pd\n",
    "\n",
    "def isNan(resumo, column):\n",
    "    if pd.isna(resumo[column]):  # pd.isna verifica se é NaN\n",
    "        resumo[column] = 0\n",
    "    else:\n",
    "        resumo[column] = 1\n",
    "    return resumo\n",
    "    "
   ]
  },
  {
   "cell_type": "code",
   "execution_count": 39,
   "metadata": {},
   "outputs": [
    {
     "data": {
      "text/plain": [
       "{'Número da requisição': 41002890,\n",
       " 'Nome do beneficiário': 'Claudio Antonio da Cruz Junior',\n",
       " 'Médico solicitante': 'HOSPITAL SAO JORGE LTDA',\n",
       " 'Data da abertura da requisição': '04/07/23',\n",
       " 'Tipo Guia': 'Guia de solicitação SP/SADT',\n",
       " 'Caráter de atendimento (Urgência ou eletiva)': 'Urgência/Emergência',\n",
       " 'Idade do beneficiário': 36,\n",
       " 'Situação contratual': 'Contrato ativo',\n",
       " 'Período de carência?': 'Não',\n",
       " 'Descrição dos procedimentos': {10101039: 'Consulta em pronto socorro'},\n",
       " 'Tipo dos itens (nivel 1)': {10101039: 'PROCEDIMENTOS'},\n",
       " 'Tipo dos itens (nivel 2)': {10101039: 'PROCEDIMENTOS GERAIS'},\n",
       " 'ID_REQUISICAO_ITEM': {10101039: 12114456},\n",
       " 'DT_ATUALIZACAO': {10101039: Timestamp('2021-09-23 00:00:00')},\n",
       " 'DT_ATUALIZACAO_REQ': {10101039: Timestamp('2023-07-13 00:00:00')},\n",
       " 'DS_CBO_PROFISSIONAL': 'Médico clínico',\n",
       " 'DS_TIPO_INTERNACAO': nan,\n",
       " 'DS_REGIME_INTERNACAO': nan,\n",
       " 'DS_TIPO_SADT': 'Consulta',\n",
       " 'DS_TIPO_CONSULTA': 'Primeira consulta',\n",
       " 'TITULARIDADE': 'N',\n",
       " 'DATA_CANCELAMENTO': 0,\n",
       " 'DATA_FIM_CARENCIA': 'Não',\n",
       " 'DATA_NASCIMENTO': '2023-07-04'}"
      ]
     },
     "execution_count": 39,
     "metadata": {},
     "output_type": "execute_result"
    }
   ],
   "source": [
    "resumo = isNan(resumo, 'DATA_CANCELAMENTO')\n",
    "resumo"
   ]
  }
 ],
 "metadata": {
  "kernelspec": {
   "display_name": ".venv",
   "language": "python",
   "name": "python3"
  },
  "language_info": {
   "codemirror_mode": {
    "name": "ipython",
    "version": 3
   },
   "file_extension": ".py",
   "mimetype": "text/x-python",
   "name": "python",
   "nbconvert_exporter": "python",
   "pygments_lexer": "ipython3",
   "version": "3.11.1"
  }
 },
 "nbformat": 4,
 "nbformat_minor": 2
}
