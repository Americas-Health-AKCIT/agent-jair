{
 "cells": [
  {
   "cell_type": "code",
   "execution_count": 4,
   "metadata": {},
   "outputs": [],
   "source": [
    "from sklearn.pipeline import Pipeline \n",
    "import joblib"
   ]
  },
  {
   "cell_type": "code",
   "execution_count": null,
   "metadata": {},
   "outputs": [
    {
     "ename": "NameError",
     "evalue": "name 'xgb' is not defined",
     "output_type": "error",
     "traceback": [
      "\u001b[1;31m---------------------------------------------------------------------------\u001b[0m",
      "\u001b[1;31mNameError\u001b[0m                                 Traceback (most recent call last)",
      "Cell \u001b[1;32mIn[2], line 1\u001b[0m\n\u001b[1;32m----> 1\u001b[0m pipeline \u001b[38;5;241m=\u001b[39m Pipeline([(\u001b[38;5;124m'\u001b[39m\u001b[38;5;124mxgboost\u001b[39m\u001b[38;5;124m'\u001b[39m, \u001b[43mxgb\u001b[49m\u001b[38;5;241m.\u001b[39mXGBClassifier())])\n",
      "\u001b[1;31mNameError\u001b[0m: name 'xgb' is not defined"
     ]
    }
   ],
   "source": [
    "pipeline = Pipeline([('xgboost', xgb.XGBClassifier())])\n",
    "\n",
    "xgb_param_grid = {\n",
    "    'xgboost__learning_rate': [0.1, 0.2, 0.3],\n",
    "    'xgboost__max_depth': [3, 5, 7],\n",
    "    'xgboost__n_estimators': [50, 100, 200],\n",
    "    'xgboost__colsample_bytree': [0.3, 0.7, 1]\n",
    "}\n",
    "\n",
    "grid_search_cv = GridSearchCV(estimator=pipeline, param_grid=xgb_param_grid, \n",
    "                              scoring='accuracy', cv=4, verbose=1)\n",
    "\n",
    "grid_search_cv.fit(X_train, y_train)\n",
    "print('Accuracy: {}'.format(grid_search_cv.best_score_))\n",
    "print('Best Estimator: {}'.format(grid_search_cv.best_estimator_))"
   ]
  },
  {
   "cell_type": "code",
   "execution_count": null,
   "metadata": {},
   "outputs": [],
   "source": []
  },
  {
   "cell_type": "code",
   "execution_count": null,
   "metadata": {},
   "outputs": [],
   "source": []
  }
 ],
 "metadata": {
  "kernelspec": {
   "display_name": ".venv",
   "language": "python",
   "name": "python3"
  },
  "language_info": {
   "codemirror_mode": {
    "name": "ipython",
    "version": 3
   },
   "file_extension": ".py",
   "mimetype": "text/x-python",
   "name": "python",
   "nbconvert_exporter": "python",
   "pygments_lexer": "ipython3",
   "version": "3.11.1"
  }
 },
 "nbformat": 4,
 "nbformat_minor": 2
}
