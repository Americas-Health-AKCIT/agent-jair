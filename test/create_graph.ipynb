{
 "cells": [
  {
   "cell_type": "code",
   "execution_count": 1,
   "metadata": {},
   "outputs": [],
   "source": [
    "import matplotlib.pyplot as plt\n",
    "import pandas as pd\n",
    "\n",
    "from gen_graph import gen_graph"
   ]
  },
  {
   "cell_type": "code",
   "execution_count": 6,
   "metadata": {},
   "outputs": [
    {
     "name": "stdout",
     "output_type": "stream",
     "text": [
      "/home/dan/CEIA/HD2/CEIA/evah/test/test_2024-08-19_22-27-31\n",
      "/home/dan/CEIA/HD2/CEIA/evah/test/test_2024-08-20_15-19-02\n",
      "/home/dan/CEIA/HD2/CEIA/evah/test/test_2024-08-20_15-40-29\n",
      "/home/dan/CEIA/HD2/CEIA/evah/test/test_2024-08-22_10-55-12\n"
     ]
    }
   ],
   "source": [
    "# lsit all folders\n",
    "import os\n",
    "path = '/home/dan/CEIA/HD2/CEIA/evah/test'\n",
    "folders = os.listdir(path)\n",
    "for f in folders:\n",
    "    if 'test_' in f:\n",
    "        p = os.path.join(path, f)\n",
    "        print(p)\n",
    "        gen_graph( pd.read_csv(p+\"/result.csv\"),\n",
    "                               p+\"/dashboard.png\" )\n",
    "        "
   ]
  },
  {
   "cell_type": "code",
   "execution_count": 7,
   "metadata": {},
   "outputs": [],
   "source": [
    "teste = \"/home/dan/CEIA/HD2/CEIA/evah/test_2024-08-23_10-02-31\"\n",
    "gen_graph( pd.read_csv(teste+\"/result.csv\"), teste+\"/dashboard.png\" )\n"
   ]
  },
  {
   "cell_type": "code",
   "execution_count": null,
   "metadata": {},
   "outputs": [],
   "source": [
    "p = test_2024-08-23_10-02-31"
   ]
  },
  {
   "cell_type": "code",
   "execution_count": null,
   "metadata": {},
   "outputs": [],
   "source": []
  },
  {
   "cell_type": "code",
   "execution_count": null,
   "metadata": {},
   "outputs": [],
   "source": []
  },
  {
   "cell_type": "code",
   "execution_count": null,
   "metadata": {},
   "outputs": [],
   "source": []
  },
  {
   "cell_type": "code",
   "execution_count": 46,
   "metadata": {},
   "outputs": [
    {
     "data": {
      "text/plain": [
       "array(['RECUSADO', 'Default',\n",
       "       'NÃO ENCONTRADO DOCUMENTOS QUE AUXILIEM A DECISÃO', 'AUTORIZADO'],\n",
       "      dtype=object)"
      ]
     },
     "execution_count": 46,
     "metadata": {},
     "output_type": "execute_result"
    }
   ],
   "source": [
    "df.y_hat.unique()"
   ]
  },
  {
   "cell_type": "code",
   "execution_count": 44,
   "metadata": {},
   "outputs": [],
   "source": []
  },
  {
   "cell_type": "code",
   "execution_count": 85,
   "metadata": {},
   "outputs": [],
   "source": [
    "\n",
    "colors = { 'AUTORIZADO': 'green', \n",
    "            'RECUSADO': 'red', \n",
    "            'NÃO ENCONTRADO DOCUMENTOS QUE AUXILIEM A DECISÃO': '#FFA500',\n",
    "            'Default': '#FFA500'\n",
    "        }\n",
    "\n",
    "\n",
    "def make_pie(ax, serie):\n",
    "        # sort series by index\n",
    "        serie = serie.sort_index()\n",
    "        \n",
    "        _, texts, _ = ax.pie( serie,  \n",
    "                              labels=serie.index,  \n",
    "                                        autopct='%1.1f%%',  \n",
    "                              colors=serie.index.map(colors).values)\n",
    "        for text in texts:\n",
    "            if ('AUTORIZADO' in text.get_text()) or ('RECUSADO' in text.get_text()):\n",
    "                text.set_fontweight('bold')  \n",
    "                text.set_color(colors[text.get_text()])                         \n",
    "                text.set_fontsize(12)\n",
    "        \n",
    "        ax.set_ylabel('')\n",
    "\n",
    "\n",
    "def gen_graph(df_input, path_To_save):        \n",
    "\n",
    "\n",
    "    df = df_input.copy()\n",
    "    \n",
    "    dict_status = {True: 'AUTORIZADO', False: 'RECUSADO'}\n",
    "\n",
    "    df.STATUS = df.STATUS.map(dict_status)\n",
    "    df['acerto'] = df.STATUS == df.y_hat\n",
    "    df['erro'] = df.STATUS != df.y_hat\n",
    "    df['sem_doc_or_codigo'] = (df.y_hat == 'NÃO ENCONTRADO DOCUMENTOS QUE AUXILIEM A DECISÃO') | (df.y_hat == 'Default')\n",
    "    ######\n",
    "    \n",
    "    \n",
    "    fig, axs = plt.subplots(4, 2, figsize=(20, 15))\n",
    "    \n",
    "    ################# 0, 0\n",
    "    ax = axs[0][0]\n",
    "    acuracia = df.acerto.sum() / df.shape[0]\n",
    "\n",
    "    # horizontal bar plot\n",
    "    ax.barh(0,df.shape[0], color='gray', label='Total', edgecolor='black',alpha=0.4)\n",
    "    ax.barh(0,df.acerto.sum(), color='green', label='Acertos')\n",
    "\n",
    "    ax.legend()\n",
    "    ax.set_title(f'Acurácia do modelo - {acuracia:.2f}')\n",
    "    ax.set_yticks([])\n",
    "\n",
    "\n",
    "\n",
    "\n",
    "\n",
    "    ################# 0, 1\n",
    "    ax = axs[0][1]\n",
    "    acuracia = (df.sem_doc_or_codigo.sum() / df.shape[0]) * 100\n",
    "    ax.barh(0,df.shape[0], color='gray', label='Total',alpha=0.4)\n",
    "    ax.barh(0,df['sem_doc_or_codigo'].sum()+df.acerto.sum(), color='green', label='Acertos')\n",
    "    \n",
    "    ax.barh(0,df['sem_doc_or_codigo'].sum(), color='#FFA500', label='Sem Documentos ou Código')\n",
    "\n",
    "    ax.legend()\n",
    "    ax.set_title(f'Sem códigou ou sem informações - {acuracia:.2f} %')\n",
    "    ax.set_yticks([])\n",
    "\n",
    "\n",
    "    ################# 1, 0 -  dos itens Autorizados, quais foram autorizados?\n",
    "    ax = axs[1][0]\n",
    "    df_autorizado = df[df.STATUS == 'AUTORIZADO']\n",
    "    df_autorizado = df_autorizado.y_hat.value_counts()\n",
    "    make_pie(ax, df_autorizado)\n",
    "    ax.set_title('Apenas Itens Autorizados ( {} itens )'.format(df_autorizado.sum()))\n",
    "    \n",
    "    \n",
    "\n",
    "    ################# 1, 1 - Dos itens Autorizados respondidos, quais foram autorizados?\n",
    "    ax = axs[1][1]\n",
    "    df_autorizado = df [ (df.STATUS == 'AUTORIZADO') & ((df.y_hat == 'AUTORIZADO') | (df.y_hat == 'RECUSADO'))]\n",
    "    df_autorizado = df_autorizado.y_hat.value_counts()\n",
    "    make_pie(ax, df_autorizado)\n",
    "    ax.set_title('Dos itens Autorizados, quantos foram respondidos?( {} itens )'.format(df_autorizado.sum()))\n",
    "    \n",
    "\n",
    "\n",
    "    #######################################\n",
    "    #################### ITENS NEGADOS\n",
    "    #######################################\n",
    "\n",
    "\n",
    "    ################# 2, 0 - dos itens Negados, quantos foram realmente negados?\n",
    "    ax = axs[2][0]\n",
    "    df_recusado = df[df.STATUS == 'RECUSADO']\n",
    "    df_recusado = df_recusado.y_hat.value_counts()\n",
    "    make_pie(ax, df_recusado)\n",
    "    ax.set_title('Apenas Itens recusados ({} itens )'.format(df_recusado.sum()))\n",
    "\n",
    "\n",
    "\n",
    "\n",
    "\n",
    "\n",
    "    # Dos itens REJEITADOS respondidos, quais foram autorizados?\n",
    "    ax = axs[2][1]\n",
    "    df_recusado = df [ (df.STATUS == 'RECUSADO') & ((df.y_hat == 'AUTORIZADO') | (df.y_hat == 'RECUSADO'))]\n",
    "    df_recusado = df_recusado.y_hat.value_counts()\n",
    "    make_pie(ax, df_recusado)\n",
    "    ax.set_title('Dos itens recusados, quantos foram respondidos?( {} itens )'.format(df_recusado.sum()))\n",
    "    \n",
    "\n",
    "    # matriz de confusao\n",
    "    ax = axs[3][0]\n",
    "    respondidos = df[ (df.y_hat == 'AUTORIZADO') | (df.y_hat == 'RECUSADO')]\n",
    "    confusion_matrix = pd.crosstab(respondidos.STATUS, respondidos.y_hat)\n",
    "    \n",
    "    confusion_matrix.plot(kind='bar', ax=ax, color=[colors[x] for x in confusion_matrix.columns],\n",
    "                            edgecolor='black')\n",
    "    \n",
    "    ax.set_title(f'Matriz de Confusão - apenas dos itens considerados como respondidos ( {respondidos.shape[0]} itens )')\n",
    "    #gira o label x text em 90º\n",
    "    ax.xaxis.set_label_text('Status do Item', fontsize=12, fontweight='bold')\n",
    "    \n",
    "    \n",
    "    ax.legend(title='Classificação do Modelo')\n",
    "    \n",
    "    \n",
    "    # remover o ultimo axis\n",
    "    axs[3][1].axis('off')\n",
    "    # colocar o pe nultimo axis no centro da figura\n",
    "    fig.delaxes(axs[3][1])\n",
    "    \n",
    "        \n",
    "\n",
    "    fig.tight_layout()\n",
    "\n",
    "    fig.savefig(path_To_save)\n",
    "    plt.close(fig)\n",
    "        \n",
    "\n",
    "\n",
    "\n",
    "a = gen_graph(df, '/home/dan/CEIA/HD2/CEIA/evah/test/test_2024-08-22_10-55-12/dashboard.png')\n",
    "a"
   ]
  },
  {
   "cell_type": "code",
   "execution_count": 15,
   "metadata": {},
   "outputs": [],
   "source": [
    "\n",
    "a_cor = a.map(colors)"
   ]
  },
  {
   "cell_type": "code",
   "execution_count": 19,
   "metadata": {},
   "outputs": [
    {
     "data": {
      "text/plain": [
       "Index(['blue', 'blue', 'red', 'green'], dtype='object', name='y_hat')"
      ]
     },
     "execution_count": 19,
     "metadata": {},
     "output_type": "execute_result"
    }
   ],
   "source": []
  },
  {
   "cell_type": "code",
   "execution_count": null,
   "metadata": {},
   "outputs": [],
   "source": []
  }
 ],
 "metadata": {
  "kernelspec": {
   "display_name": "venv_evah",
   "language": "python",
   "name": "python3"
  },
  "language_info": {
   "codemirror_mode": {
    "name": "ipython",
    "version": 3
   },
   "file_extension": ".py",
   "mimetype": "text/x-python",
   "name": "python",
   "nbconvert_exporter": "python",
   "pygments_lexer": "ipython3",
   "version": "3.11.4"
  }
 },
 "nbformat": 4,
 "nbformat_minor": 2
}
