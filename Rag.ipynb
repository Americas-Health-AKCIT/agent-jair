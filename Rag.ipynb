{
 "cells": [
  {
   "cell_type": "code",
   "execution_count": 1,
   "metadata": {},
   "outputs": [
    {
     "data": {
      "text/plain": [
       "True"
      ]
     },
     "execution_count": 1,
     "metadata": {},
     "output_type": "execute_result"
    }
   ],
   "source": [
    "import dotenv\n",
    "dotenv.load_dotenv()"
   ]
  },
  {
   "cell_type": "code",
   "execution_count": 2,
   "metadata": {},
   "outputs": [],
   "source": [
    "from langchain_openai import ChatOpenAI\n",
    "from prompt import prompt\n",
    "\n",
    "llm = ChatOpenAI(model=\"gpt-4o\")\n"
   ]
  },
  {
   "cell_type": "markdown",
   "metadata": {},
   "source": [
    "# Indexing"
   ]
  },
  {
   "cell_type": "markdown",
   "metadata": {},
   "source": [
    "## Load"
   ]
  },
  {
   "cell_type": "code",
   "execution_count": 3,
   "metadata": {},
   "outputs": [],
   "source": [
    "from langchain_community.document_loaders import PyPDFLoader\n",
    "\n",
    "loader = PyPDFLoader(\"data/manual_auditoria.pdf\")\n",
    "docs = loader.load_and_split()"
   ]
  },
  {
   "cell_type": "markdown",
   "metadata": {},
   "source": [
    "## Split"
   ]
  },
  {
   "cell_type": "code",
   "execution_count": 4,
   "metadata": {},
   "outputs": [],
   "source": [
    "from langchain_text_splitters import RecursiveCharacterTextSplitter\n",
    "\n",
    "text_splitter = RecursiveCharacterTextSplitter(\n",
    "    chunk_size=2000, chunk_overlap=200, add_start_index=True\n",
    ")\n",
    "all_splits = text_splitter.split_documents(docs)"
   ]
  },
  {
   "cell_type": "markdown",
   "metadata": {},
   "source": [
    "## Store"
   ]
  },
  {
   "cell_type": "code",
   "execution_count": 5,
   "metadata": {},
   "outputs": [],
   "source": [
    "from langchain_community.vectorstores import FAISS\n",
    "from langchain_openai import OpenAIEmbeddings\n",
    "\n",
    "vectorstore = FAISS.from_documents(documents=all_splits, embedding=OpenAIEmbeddings())"
   ]
  },
  {
   "cell_type": "markdown",
   "metadata": {},
   "source": [
    "# Retrive"
   ]
  },
  {
   "cell_type": "code",
   "execution_count": 6,
   "metadata": {},
   "outputs": [],
   "source": [
    "retriever = vectorstore.as_retriever(search_type=\"similarity\", search_kwargs={\"k\": 5})"
   ]
  },
  {
   "cell_type": "code",
   "execution_count": 7,
   "metadata": {},
   "outputs": [],
   "source": [
    "def format_docs(docs):\n",
    "    return \"\\n\\n\".join(doc.page_content for doc in docs)"
   ]
  },
  {
   "cell_type": "code",
   "execution_count": 8,
   "metadata": {},
   "outputs": [],
   "source": [
    "from langchain_core.output_parsers import StrOutputParser\n",
    "from langchain_core.runnables import RunnablePassthrough\n",
    "from langchain_core.prompts import PromptTemplate\n",
    "\n",
    "custom_rag_prompt = PromptTemplate.from_template(prompt)\n",
    "\n",
    "rag_chain = (\n",
    "    {\"context\": retriever | format_docs, \"question\": RunnablePassthrough()}\n",
    "    | custom_rag_prompt\n",
    "    | llm\n",
    "    | StrOutputParser()\n",
    ")"
   ]
  },
  {
   "cell_type": "code",
   "execution_count": 9,
   "metadata": {},
   "outputs": [],
   "source": [
    "question = '''\n",
    "Solicito atendimento em pronto socorro para paciente de 39 anos vítima de queda da própria altura com fratura de antebraço. \n",
    "Itens na conta médica: \n",
    "\n",
    "1. Taxa de sala de gesso \n",
    "2. Taxa de sala de pequenos procedimentos \n",
    "3. Consulta em PS \n",
    "4. Imobilização do antebraço \n",
    "5. Honorário de sutura de pequeno ferimento\n",
    "6. Honorário de anestesista \n",
    "7. Box hora (taxa de permanência em PS) 4 horas \n",
    "\n",
    "Forneça o código de cada item autorizado ou negado.\n",
    "'''"
   ]
  },
  {
   "cell_type": "code",
   "execution_count": 10,
   "metadata": {},
   "outputs": [
    {
     "name": "stdout",
     "output_type": "stream",
     "text": [
      "# Código correspondente ao item: \n",
      "# Nome do Item: Taxa de sala de gesso\n",
      "# Situação: AUTORIZADO\n",
      "# Justificativa: A taxa de sala de gesso é pertinente para o procedimento de imobilização do antebraço.\n",
      "\n",
      "# Código correspondente ao item: \n",
      "# Nome do Item: Taxa de sala de pequenos procedimentos\n",
      "# Situação: RECUSADO\n",
      "# Justificativa: A cobrança simultânea da taxa de sala de gesso e taxa de sala de pequenos procedimentos não é pertinente. De acordo com os documentos, devemos considerar apenas um procedimento principal.\n",
      "\n",
      "# Código correspondente ao item: 10101039\n",
      "# Nome do Item: Consulta em PS\n",
      "# Situação: AUTORIZADO\n",
      "# Justificativa: A consulta em pronto-socorro é pertinente para o atendimento inicial da vítima de queda.\n",
      "\n",
      "# Código correspondente ao item: \n",
      "# Nome do Item: Imobilização do antebraço\n",
      "# Situação: AUTORIZADO\n",
      "# Justificativa: A imobilização do antebraço é necessária devido à fratura e está de acordo com o atendimento de urgência.\n",
      "\n",
      "# Código correspondente ao item: \n",
      "# Nome do Item: Honorário de sutura de pequeno ferimento\n",
      "# Situação: AUTORIZADO\n",
      "# Justificativa: A sutura de pequeno ferimento é um procedimento necessário em casos de lesões decorrentes de quedas.\n",
      "\n",
      "# Código correspondente ao item: \n",
      "# Nome do Item: Honorário de anestesista\n",
      "# Situação: RECUSADO\n",
      "# Justificativa: Não houve menção de procedimento cirúrgico de alto risco que necessite de anestesista. Além disso, a justificativa médica é necessária para procedimentos que não sejam de baixo risco, conforme documento.\n",
      "\n",
      "# Código correspondente ao item: \n",
      "# Nome do Item: Box hora (taxa de permanência em PS) 4 horas\n",
      "# Situação: AUTORIZADO\n",
      "# Justificativa: A taxa de permanência em pronto-socorro é pertinente para o tempo necessário de observação e atendimento do paciente.\n"
     ]
    }
   ],
   "source": [
    "response = rag_chain.invoke(question)\n",
    "print(response)"
   ]
  },
  {
   "cell_type": "code",
   "execution_count": 11,
   "metadata": {},
   "outputs": [],
   "source": [
    "def pretty_print_docs(docs):\n",
    "    print(\n",
    "        f\"\\n{'-' * 100}\\n\".join(\n",
    "            [f\"Documento {i+1}:\\n\\n\" + d.page_content for i, d in enumerate(docs)]\n",
    "        )\n",
    "    )\n",
    "\n",
    "# pretty_print_docs(retriever.invoke(question))"
   ]
  }
 ],
 "metadata": {
  "kernelspec": {
   "display_name": "venv",
   "language": "python",
   "name": "python3"
  },
  "language_info": {
   "codemirror_mode": {
    "name": "ipython",
    "version": 3
   },
   "file_extension": ".py",
   "mimetype": "text/x-python",
   "name": "python",
   "nbconvert_exporter": "python",
   "pygments_lexer": "ipython3",
   "version": "3.12.4"
  }
 },
 "nbformat": 4,
 "nbformat_minor": 2
}
